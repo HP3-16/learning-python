{
 "cells": [
  {
   "cell_type": "markdown",
   "metadata": {},
   "source": [
    "## Errors and Exceptions"
   ]
  },
  {
   "cell_type": "markdown",
   "metadata": {},
   "source": [
    "- try\n",
    "- except"
   ]
  },
  {
   "cell_type": "code",
   "execution_count": 4,
   "metadata": {},
   "outputs": [],
   "source": [
    "def div(a,b):\n",
    "    try:\n",
    "        print(a/b)\n",
    "    except:\n",
    "        print(\"Error\")"
   ]
  },
  {
   "cell_type": "code",
   "execution_count": 5,
   "metadata": {},
   "outputs": [
    {
     "name": "stdout",
     "output_type": "stream",
     "text": [
      "Hello\n",
      "Error\n",
      "World\n"
     ]
    }
   ],
   "source": [
    "print(\"Hello\")\n",
    "div(100,0)\n",
    "print(\"World\")"
   ]
  },
  {
   "cell_type": "markdown",
   "metadata": {},
   "source": [
    "### Handling only a particular type of exception (Eg. ZeroDivisionEror)"
   ]
  },
  {
   "cell_type": "code",
   "execution_count": 7,
   "metadata": {},
   "outputs": [
    {
     "name": "stdout",
     "output_type": "stream",
     "text": [
      "You made some mistake\n"
     ]
    }
   ],
   "source": [
    "try:\n",
    "    print(100/0)\n",
    "    name = int(\"Hari\")\n",
    "except ZeroDivisionError: # catches zero division particularly\n",
    "    print(\"You just divided by zero\")\n",
    "except: # catches all others\n",
    "    print(\"You made some mistake\")"
   ]
  },
  {
   "cell_type": "markdown",
   "metadata": {},
   "source": [
    "### Exception Class"
   ]
  },
  {
   "cell_type": "markdown",
   "metadata": {},
   "source": [
    "Exception class is the parent class of all errors"
   ]
  },
  {
   "cell_type": "code",
   "execution_count": 12,
   "metadata": {},
   "outputs": [
    {
     "name": "stdout",
     "output_type": "stream",
     "text": [
      "name 'a' is not defined\n"
     ]
    }
   ],
   "source": [
    "try:\n",
    "    print(a/0)\n",
    "except Exception as e:\n",
    "    print(str(e))"
   ]
  },
  {
   "cell_type": "markdown",
   "metadata": {},
   "source": [
    "### Raise"
   ]
  },
  {
   "cell_type": "code",
   "execution_count": 13,
   "metadata": {},
   "outputs": [
    {
     "name": "stdout",
     "output_type": "stream",
     "text": [
      "New Error\n"
     ]
    }
   ],
   "source": [
    "try:\n",
    "    raise Exception(\"New Error\") # sees this line as an error with arguement \"New Error\"\n",
    "except Exception as e:\n",
    "    print(e)\n"
   ]
  },
  {
   "cell_type": "markdown",
   "metadata": {},
   "source": [
    "### Creating custom error class"
   ]
  },
  {
   "cell_type": "code",
   "execution_count": 14,
   "metadata": {},
   "outputs": [],
   "source": [
    "class MyException(Exception):\n",
    "    def __init__(self,message):\n",
    "        self.message = message\n",
    "    \n",
    "    def __str__(self):\n",
    "        return self.message"
   ]
  },
  {
   "cell_type": "code",
   "execution_count": 16,
   "metadata": {},
   "outputs": [
    {
     "name": "stdout",
     "output_type": "stream",
     "text": [
      "Some error bruh\n"
     ]
    }
   ],
   "source": [
    "try:\n",
    "    raise MyException(\"Some error bruh\")\n",
    "except Exception as e:\n",
    "    print(e.message)"
   ]
  },
  {
   "cell_type": "markdown",
   "metadata": {},
   "source": [
    "### Else Finally "
   ]
  },
  {
   "cell_type": "code",
   "execution_count": 1,
   "metadata": {},
   "outputs": [
    {
     "name": "stdout",
     "output_type": "stream",
     "text": [
      "name 'a' is not defined\n",
      "idgaf\n"
     ]
    }
   ],
   "source": [
    "try:\n",
    "    print(a/10)\n",
    "except Exception as e:\n",
    "    print(e)\n",
    "else:\n",
    "    print(\"elsed\")\n",
    "finally:\n",
    "    #Cleanup Code \n",
    "    print(\"idgaf\")"
   ]
  },
  {
   "cell_type": "markdown",
   "metadata": {},
   "source": [
    "Trick Q"
   ]
  },
  {
   "cell_type": "code",
   "execution_count": 30,
   "metadata": {},
   "outputs": [],
   "source": [
    "def fun():\n",
    "    try:\n",
    "        return 1\n",
    "    except:\n",
    "        return 2\n",
    "    else:\n",
    "        return 3\n",
    "    finally:\n",
    "        return 4"
   ]
  },
  {
   "cell_type": "code",
   "execution_count": 31,
   "metadata": {},
   "outputs": [
    {
     "data": {
      "text/plain": [
       "4"
      ]
     },
     "execution_count": 31,
     "metadata": {},
     "output_type": "execute_result"
    }
   ],
   "source": [
    "fun()"
   ]
  },
  {
   "cell_type": "code",
   "execution_count": 2,
   "metadata": {},
   "outputs": [
    {
     "name": "stdout",
     "output_type": "stream",
     "text": [
      "[Errno 2] No such file or directory: 'something.txt'\n"
     ]
    }
   ],
   "source": [
    "try:\n",
    "    file = open('something.txt','r')\n",
    "    print(file.read())\n",
    "except Exception as e:\n",
    "    print(e)"
   ]
  },
  {
   "cell_type": "markdown",
   "metadata": {},
   "source": [
    "### using with"
   ]
  },
  {
   "cell_type": "code",
   "execution_count": 3,
   "metadata": {},
   "outputs": [],
   "source": [
    "class A:\n",
    "    def __init__(self,num):\n",
    "        self.num = num\n",
    "\n",
    "    def __str__(self):\n",
    "        return str(self.num)\n",
    "    \n",
    "    def __enter__(self):\n",
    "        return self\n",
    "    \n",
    "    def __exit__(self, *args):# args are the exceptions raised inside the with block \n",
    "        print(args) \n",
    "        return True # errors won't pop up"
   ]
  },
  {
   "cell_type": "code",
   "execution_count": 5,
   "metadata": {},
   "outputs": [
    {
     "name": "stdout",
     "output_type": "stream",
     "text": [
      "5\n",
      "(<class 'NameError'>, NameError(\"name 'b' is not defined\"), <traceback object at 0x0000022850454BC0>)\n",
      "hello\n"
     ]
    }
   ],
   "source": [
    "with A(5) as a:\n",
    "    print(a)\n",
    "    print(b/10)\n",
    "\n",
    "print(\"hello\")"
   ]
  },
  {
   "cell_type": "code",
   "execution_count": null,
   "metadata": {},
   "outputs": [],
   "source": []
  }
 ],
 "metadata": {
  "kernelspec": {
   "display_name": "Python 3",
   "language": "python",
   "name": "python3"
  },
  "language_info": {
   "codemirror_mode": {
    "name": "ipython",
    "version": 3
   },
   "file_extension": ".py",
   "mimetype": "text/x-python",
   "name": "python",
   "nbconvert_exporter": "python",
   "pygments_lexer": "ipython3",
   "version": "3.10.0"
  },
  "orig_nbformat": 4
 },
 "nbformat": 4,
 "nbformat_minor": 2
}
