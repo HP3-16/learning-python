{
 "cells": [
  {
   "cell_type": "code",
   "execution_count": 2,
   "metadata": {},
   "outputs": [
    {
     "name": "stdout",
     "output_type": "stream",
     "text": [
      "Deep Learning\n"
     ]
    }
   ],
   "source": [
    "a_dict = {\"name\":\"Hari\",\n",
    "          \"marks\":100,\n",
    "          \"YOB\":2001,\n",
    "          \"subject\":\"Deep Learning\"}\n",
    "print(a_dict['subject'])"
   ]
  },
  {
   "attachments": {},
   "cell_type": "markdown",
   "metadata": {},
   "source": [
    "iterating over dictionary gives keys"
   ]
  },
  {
   "cell_type": "code",
   "execution_count": 3,
   "metadata": {},
   "outputs": [
    {
     "name": "stdout",
     "output_type": "stream",
     "text": [
      "name,marks,YOB,subject,"
     ]
    }
   ],
   "source": [
    "for key in a_dict:\n",
    "    print(key,end=\",\")"
   ]
  },
  {
   "attachments": {},
   "cell_type": "markdown",
   "metadata": {},
   "source": [
    "get(), item(),key(), values(), clear()"
   ]
  },
  {
   "cell_type": "code",
   "execution_count": 5,
   "metadata": {},
   "outputs": [
    {
     "name": "stdout",
     "output_type": "stream",
     "text": [
      "('name', 'Hari')\n",
      "('marks', 100)\n",
      "('YOB', 2001)\n",
      "('subject', 'Deep Learning')\n"
     ]
    }
   ],
   "source": [
    "for item in a_dict.items():\n",
    "    print(item)"
   ]
  },
  {
   "cell_type": "code",
   "execution_count": 6,
   "metadata": {},
   "outputs": [
    {
     "name": "stdout",
     "output_type": "stream",
     "text": [
      "name  =>  Hari\n",
      "marks  =>  100\n",
      "YOB  =>  2001\n",
      "subject  =>  Deep Learning\n"
     ]
    }
   ],
   "source": [
    "for key,val in a_dict.items():\n",
    "    print(key,\" => \",val)"
   ]
  },
  {
   "cell_type": "code",
   "execution_count": 10,
   "metadata": {},
   "outputs": [
    {
     "name": "stdout",
     "output_type": "stream",
     "text": [
      "roll no:  -> 1\n",
      "name -> Hari\n",
      "branch -> Deep Learning\n",
      "roll no:  -> 2\n",
      "name -> Ankit\n",
      "branch -> Reinforcement Learning\n"
     ]
    }
   ],
   "source": [
    "student_list = []\n",
    "no_of_students = 2\n",
    "\n",
    "for _ in range(no_of_students):\n",
    "    roll = int(input())\n",
    "    name = input()\n",
    "    branch = input()\n",
    "    student_list.append({\"roll no: \":roll,\n",
    "                         \"name\":name,\n",
    "                         \"branch\":branch\n",
    "                         })\n",
    "    \n",
    "for student in student_list:\n",
    "    for k,v in student.items():\n",
    "        print(k,\"->\",v)"
   ]
  },
  {
   "cell_type": "code",
   "execution_count": null,
   "metadata": {},
   "outputs": [],
   "source": []
  },
  {
   "cell_type": "code",
   "execution_count": null,
   "metadata": {},
   "outputs": [],
   "source": []
  }
 ],
 "metadata": {
  "kernelspec": {
   "display_name": "Python 3",
   "language": "python",
   "name": "python3"
  },
  "language_info": {
   "codemirror_mode": {
    "name": "ipython",
    "version": 3
   },
   "file_extension": ".py",
   "mimetype": "text/x-python",
   "name": "python",
   "nbconvert_exporter": "python",
   "pygments_lexer": "ipython3",
   "version": "3.10.0"
  },
  "orig_nbformat": 4
 },
 "nbformat": 4,
 "nbformat_minor": 2
}
