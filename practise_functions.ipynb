{
 "cells": [
  {
   "cell_type": "code",
   "execution_count": 1,
   "metadata": {},
   "outputs": [],
   "source": [
    "def divide(a,b):\n",
    "    try:\n",
    "        return a/b\n",
    "    except:\n",
    "        print('Error')\n",
    "    finally:\n",
    "        print(\"Wrapping Up\")\n",
    "        # return 10 - will always work regardless of return above"
   ]
  },
  {
   "cell_type": "code",
   "execution_count": 2,
   "metadata": {},
   "outputs": [
    {
     "name": "stdout",
     "output_type": "stream",
     "text": [
      "Wrapping Up\n"
     ]
    },
    {
     "data": {
      "text/plain": [
       "5.0"
      ]
     },
     "execution_count": 2,
     "metadata": {},
     "output_type": "execute_result"
    }
   ],
   "source": [
    "divide(10,2)"
   ]
  },
  {
   "attachments": {},
   "cell_type": "markdown",
   "metadata": {},
   "source": [
    "### Local & Global Variables"
   ]
  },
  {
   "cell_type": "code",
   "execution_count": 4,
   "metadata": {},
   "outputs": [
    {
     "name": "stdout",
     "output_type": "stream",
     "text": [
      "10\n",
      "5\n"
     ]
    }
   ],
   "source": [
    "x = 10\n",
    "def show():\n",
    "    print(x)\n",
    "def show_1():\n",
    "    x=5\n",
    "    print(x)\n",
    "show()\n",
    "show_1()"
   ]
  },
  {
   "attachments": {},
   "cell_type": "markdown",
   "metadata": {},
   "source": [
    "'''\n",
    "An Error - This is because the local variable is not assigned to local x\n",
    "'''\n",
    "def show_2():\n",
    "    x+=5\n",
    "    print(x)\n",
    "\n"
   ]
  },
  {
   "cell_type": "code",
   "execution_count": 5,
   "metadata": {},
   "outputs": [
    {
     "name": "stdout",
     "output_type": "stream",
     "text": [
      "15\n"
     ]
    }
   ],
   "source": [
    "def show_2():\n",
    "    global x\n",
    "    x+=5\n",
    "    print(x)\n",
    "\n",
    "show_2()"
   ]
  },
  {
   "attachments": {},
   "cell_type": "markdown",
   "metadata": {},
   "source": [
    "### Enclosure"
   ]
  },
  {
   "cell_type": "code",
   "execution_count": 6,
   "metadata": {},
   "outputs": [
    {
     "name": "stdout",
     "output_type": "stream",
     "text": [
      "local\n",
      "local\n"
     ]
    }
   ],
   "source": [
    "def outer():\n",
    "    x = 'local'\n",
    "    def inner():\n",
    "        print(x)\n",
    "    inner()\n",
    "    print(x)\n",
    "\n",
    "outer()"
   ]
  },
  {
   "attachments": {},
   "cell_type": "markdown",
   "metadata": {},
   "source": [
    "#### Use of non-local"
   ]
  },
  {
   "cell_type": "code",
   "execution_count": 8,
   "metadata": {},
   "outputs": [
    {
     "name": "stdout",
     "output_type": "stream",
     "text": [
      "15\n",
      "15\n"
     ]
    }
   ],
   "source": [
    "def outer():\n",
    "    i = 10\n",
    "\n",
    "    def inner():\n",
    "        nonlocal i #used instead of global\n",
    "        i+=5\n",
    "        print(i)\n",
    "    inner()\n",
    "    print(i)\n",
    "\n",
    "outer()"
   ]
  },
  {
   "attachments": {},
   "cell_type": "markdown",
   "metadata": {},
   "source": [
    "### Packing Arguments"
   ]
  },
  {
   "cell_type": "code",
   "execution_count": 13,
   "metadata": {},
   "outputs": [
    {
     "name": "stdout",
     "output_type": "stream",
     "text": [
      "THERE\n",
      "HI\n",
      "HELLO\n",
      "This\n",
      "is\n",
      "C\n"
     ]
    }
   ],
   "source": [
    "def fun(a,b,c):\n",
    "    print(a)\n",
    "    print(b)\n",
    "    print(c)\n",
    "\n",
    "fun(b=\"HI\",a = \"THERE\",c=\"HELLO\")\n",
    "\n",
    "fun(\"This\",\"is\",c=\"C\")"
   ]
  },
  {
   "cell_type": "code",
   "execution_count": 14,
   "metadata": {},
   "outputs": [
    {
     "name": "stdout",
     "output_type": "stream",
     "text": [
      "\u001b[1;31mDocstring:\u001b[0m\n",
      "print(value, ..., sep=' ', end='\\n', file=sys.stdout, flush=False)\n",
      "\n",
      "Prints the values to a stream, or to sys.stdout by default.\n",
      "Optional keyword arguments:\n",
      "file:  a file-like object (stream); defaults to the current sys.stdout.\n",
      "sep:   string inserted between values, default a space.\n",
      "end:   string appended after the last value, default a newline.\n",
      "flush: whether to forcibly flush the stream.\n",
      "\u001b[1;31mType:\u001b[0m      builtin_function_or_method"
     ]
    }
   ],
   "source": [
    "print?"
   ]
  },
  {
   "cell_type": "code",
   "execution_count": 15,
   "metadata": {},
   "outputs": [
    {
     "name": "stdout",
     "output_type": "stream",
     "text": [
      "James Rodriguez is a Colombian Footballer\n"
     ]
    }
   ],
   "source": [
    "print(\"James\",\"Rodriguez\",\"is\",\"a\",\"Colombian\",\"Footballer\")\n",
    "\n",
    "# in-built print prints this in a line with a space between each"
   ]
  },
  {
   "cell_type": "code",
   "execution_count": 16,
   "metadata": {},
   "outputs": [
    {
     "name": "stdout",
     "output_type": "stream",
     "text": [
      "()\n"
     ]
    }
   ],
   "source": [
    "def show(*args): #positional arguements\n",
    "    print(args)\n",
    "\n",
    "show()\n",
    "\n",
    "# The arguements get packed into the args in the form of a tuple"
   ]
  },
  {
   "cell_type": "code",
   "execution_count": 18,
   "metadata": {},
   "outputs": [
    {
     "name": "stdout",
     "output_type": "stream",
     "text": [
      "(1, 2, 3, 'Hari')\n"
     ]
    }
   ],
   "source": [
    "show(1,2,3,\"Hari\")"
   ]
  },
  {
   "cell_type": "code",
   "execution_count": 21,
   "metadata": {},
   "outputs": [
    {
     "name": "stdout",
     "output_type": "stream",
     "text": [
      "1 2 3\n",
      "('Hari', 'Mango')\n",
      "1 2 3 10 20\n",
      "('first', 'second', 'third')\n"
     ]
    }
   ],
   "source": [
    "def show_1(a,b,c,*args):\n",
    "    print(a,b,c)\n",
    "    print(args)\n",
    "\n",
    "def show_2(a,b,c,*args,d=10,e=20):\n",
    "    print(a,b,c,d,e)\n",
    "    print(args)\n",
    "\n",
    "show_1(1,2,3,\"Hari\",\"Mango\")\n",
    "\n",
    "show_2(1,2,3,\"first\",\"second\",\"third\")"
   ]
  },
  {
   "attachments": {},
   "cell_type": "markdown",
   "metadata": {},
   "source": [
    "#### Keyworded Arguments\n",
    "\n",
    "The arguments after the *args, default values which are keyworded get added to **kwargs as a dictionary"
   ]
  },
  {
   "cell_type": "code",
   "execution_count": 23,
   "metadata": {},
   "outputs": [
    {
     "name": "stdout",
     "output_type": "stream",
     "text": [
      "1 2 3 10 20\n",
      "('First', 'Second', 'Third')\n",
      "{'Class': 'Python'}\n"
     ]
    }
   ],
   "source": [
    "def show_3(a,b,c,*args,d=10,e=20,**kwargs):\n",
    "    print(a,b,c,d,e)\n",
    "    print(args)\n",
    "    print(kwargs)\n",
    "\n",
    "show_3(1,2,3,\"First\",\"Second\",\"Third\",Class=\"Python\") \n",
    "#The extra key-worded argument packed in kwargs"
   ]
  },
  {
   "attachments": {},
   "cell_type": "markdown",
   "metadata": {},
   "source": [
    "### Lambda Functions"
   ]
  },
  {
   "cell_type": "code",
   "execution_count": 28,
   "metadata": {},
   "outputs": [
    {
     "name": "stdout",
     "output_type": "stream",
     "text": [
      "<function <lambda> at 0x00000179C2693EB0>\n"
     ]
    },
    {
     "data": {
      "text/plain": [
       "3"
      ]
     },
     "execution_count": 28,
     "metadata": {},
     "output_type": "execute_result"
    }
   ],
   "source": [
    "add = lambda x,y:x+y\n",
    "print(add)\n",
    "add(1,2)"
   ]
  },
  {
   "cell_type": "code",
   "execution_count": 37,
   "metadata": {},
   "outputs": [
    {
     "data": {
      "text/plain": [
       "[('First', 1), ('Second', 2), ('Third', 3), ('Fifth', 5), ('Seventh', 7)]"
      ]
     },
     "execution_count": 37,
     "metadata": {},
     "output_type": "execute_result"
    }
   ],
   "source": [
    "#Example of sorting\n",
    "a = [5,2,3,7,1,4]\n",
    "sorted(a)\n",
    "\n",
    "rank  = [(\"Second\",2),(\"Third\",3),(\"First\",1),(\"Fifth\",5),(\"Seventh\",7)]\n",
    "sorted(rank) #incorrect\n",
    "\n",
    "\n",
    "sorted(rank,key= lambda x:x[1])\n",
    "\n"
   ]
  },
  {
   "attachments": {},
   "cell_type": "markdown",
   "metadata": {},
   "source": [
    "### Decorators"
   ]
  },
  {
   "cell_type": "code",
   "execution_count": 41,
   "metadata": {},
   "outputs": [],
   "source": [
    "users = {\n",
    "    \"Hari\":\"iraH\",\n",
    "    \"Ifham\":\"mahfI\",\n",
    "    \"Windows\":\"swodniW\"\n",
    "}\n",
    "\n",
    "def check(username,password):\n",
    "    if username in users and users[username] == password:\n",
    "        print(\"Welcome to the system\")\n",
    "    else:\n",
    "        print(\"Not Authenticated\")\n",
    "\n",
    "def add_with_check(username,password,a,b):\n",
    "    if username in users and users[username] == password:\n",
    "        print(\"Welcome to the system\")\n",
    "        print(a+b)\n",
    "    else:\n",
    "        print(\"Not Authenticated\")\n",
    "\n",
    "#Functions have similarities"
   ]
  },
  {
   "cell_type": "code",
   "execution_count": 42,
   "metadata": {},
   "outputs": [
    {
     "name": "stdout",
     "output_type": "stream",
     "text": [
      "Welcome to the system\n",
      "Welcome to the system\n",
      "11\n"
     ]
    }
   ],
   "source": [
    "check(\"Windows\",\"swodniW\")\n",
    "add_with_check(\"Hari\",\"iraH\",1,10)"
   ]
  },
  {
   "cell_type": "code",
   "execution_count": 46,
   "metadata": {},
   "outputs": [
    {
     "name": "stdout",
     "output_type": "stream",
     "text": [
      "((1, 2, 3),)\n",
      "{}\n",
      "(1, 2, 3)\n",
      "{}\n"
     ]
    }
   ],
   "source": [
    "def temp(*args,**kwargs):\n",
    "    print(args)\n",
    "    print(kwargs)\n",
    "\n",
    "a = (1,2,3)\n",
    "temp(a)\n",
    "temp(*a) # inflates the tuples"
   ]
  },
  {
   "cell_type": "code",
   "execution_count": 47,
   "metadata": {},
   "outputs": [],
   "source": [
    "#We pass the function we need to authenticate, as the argument to new function\n",
    "def login_required(func):\n",
    "    def wrapper(username,password,*args,**kwargs):\n",
    "        if username in users and users[username] == password:\n",
    "            func(*args,**kwargs)\n",
    "        else:\n",
    "            print(\"Not Authenticated\")\n",
    "    \n",
    "    return wrapper"
   ]
  },
  {
   "cell_type": "code",
   "execution_count": 57,
   "metadata": {},
   "outputs": [],
   "source": [
    "def add(a,b):\n",
    "    print(a+b)\n",
    "add = login_required(add)"
   ]
  },
  {
   "cell_type": "code",
   "execution_count": null,
   "metadata": {},
   "outputs": [],
   "source": [
    "@login_required\n",
    "def add(a,b):\n",
    "    print(a+b)"
   ]
  },
  {
   "cell_type": "code",
   "execution_count": 54,
   "metadata": {},
   "outputs": [
    {
     "name": "stdout",
     "output_type": "stream",
     "text": [
      "3\n"
     ]
    }
   ],
   "source": [
    "protected_add = login_required(add)\n",
    "protected_add(\"Hari\",\"iraH\",1,2)"
   ]
  },
  {
   "cell_type": "code",
   "execution_count": null,
   "metadata": {},
   "outputs": [],
   "source": []
  }
 ],
 "metadata": {
  "kernelspec": {
   "display_name": "Python 3",
   "language": "python",
   "name": "python3"
  },
  "language_info": {
   "codemirror_mode": {
    "name": "ipython",
    "version": 3
   },
   "file_extension": ".py",
   "mimetype": "text/x-python",
   "name": "python",
   "nbconvert_exporter": "python",
   "pygments_lexer": "ipython3",
   "version": "3.10.2"
  },
  "orig_nbformat": 4,
  "vscode": {
   "interpreter": {
    "hash": "26de051ba29f2982a8de78e945f0abaf191376122a1563185a90213a26c5da77"
   }
  }
 },
 "nbformat": 4,
 "nbformat_minor": 2
}
