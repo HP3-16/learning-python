{
 "cells": [
  {
   "cell_type": "code",
   "execution_count": 10,
   "metadata": {},
   "outputs": [
    {
     "name": "stdout",
     "output_type": "stream",
     "text": [
      "<__main__.Person object at 0x000001F5B86BA9B0>\n",
      "The meta variable called  __main__  at the entry point of the python script.\n",
      "The address of the object is  0x1f5b86ba9b0\n"
     ]
    }
   ],
   "source": [
    "class Person: # Person is the identifier or name of the class\n",
    "    pass\n",
    "\n",
    "p = Person() # p is the object of the class Person\n",
    "print(p)\n",
    "\n",
    "print(\"The meta variable called \",__name__,\" at the entry point of the python script.\")\n",
    "print(\"The address of the object is \", hex(id(p)))\n"
   ]
  },
  {
   "cell_type": "code",
   "execution_count": 7,
   "metadata": {},
   "outputs": [
    {
     "name": "stdout",
     "output_type": "stream",
     "text": [
      "<class 'int'>\n",
      "True\n",
      "True\n",
      "True\n",
      "True\n"
     ]
    }
   ],
   "source": [
    "#Python treats everything as an object - int, float, Person etc\n",
    "num = 1\n",
    "print(type(num))\n",
    "\n",
    "print(isinstance(num,object)) # Is num an instance of object class? - Yes\n",
    "print(isinstance(print,object)) # Is print an instance of object class? - Yes\n",
    "print(isinstance(Person,object)) # Is Person an instance of object class? - Yes\n",
    "print(isinstance(p,object)) # Is Person an instance of object class? - Yes"
   ]
  },
  {
   "cell_type": "code",
   "execution_count": 11,
   "metadata": {},
   "outputs": [
    {
     "name": "stdout",
     "output_type": "stream",
     "text": [
      "Hello! my name is Hari\n"
     ]
    }
   ],
   "source": [
    "#Methods inside the class\n",
    "\n",
    "class Person:\n",
    "    def __init__(self,name):\n",
    "        self.name = name\n",
    "    \n",
    "    def say_hi(self):\n",
    "        print(\"Hello! my name is {}\".format(self.name))\n",
    "\n",
    "p1 = Person('Hari')\n",
    "p1.say_hi()"
   ]
  },
  {
   "cell_type": "code",
   "execution_count": null,
   "metadata": {},
   "outputs": [],
   "source": [
    "#Python Life cycle - Dunders\n",
    "# __init__\n",
    "# __del__\n",
    "# __add__\n",
    "# __subtract__"
   ]
  },
  {
   "cell_type": "code",
   "execution_count": 12,
   "metadata": {},
   "outputs": [],
   "source": [
    "class Car:\n",
    "    def __init__(self,model,mileage):\n",
    "        self.model = model\n",
    "        self.mileage = mileage\n",
    "    \n",
    "    def __str__(self):\n",
    "        return \"{} {}\".format(self.model,self.mileage)\n",
    "\n",
    "    def __repr__(self):\n",
    "        return \"{}\".format(self.model)\n",
    "    \n",
    "    def __eq__(self,other):\n",
    "        return self.mileage == other.mileage\n",
    "    \n",
    "    def __add__(self,other):\n",
    "        return self.mileage+other.mileage"
   ]
  },
  {
   "cell_type": "code",
   "execution_count": 13,
   "metadata": {},
   "outputs": [],
   "source": [
    "c1 = Car('Toyota Corolla',123400)\n",
    "c2 = Car('Toyota LC200',340000)"
   ]
  },
  {
   "cell_type": "code",
   "execution_count": 14,
   "metadata": {},
   "outputs": [
    {
     "data": {
      "text/plain": [
       "463400"
      ]
     },
     "execution_count": 14,
     "metadata": {},
     "output_type": "execute_result"
    }
   ],
   "source": [
    "c1+c2"
   ]
  },
  {
   "cell_type": "code",
   "execution_count": 17,
   "metadata": {},
   "outputs": [],
   "source": [
    "class Ostream:\n",
    "    def __lshift__(self,other):\n",
    "        print(other, end=\" \")\n",
    "        return self\n",
    "    \n",
    "cout = Ostream()"
   ]
  },
  {
   "cell_type": "code",
   "execution_count": 18,
   "metadata": {},
   "outputs": [
    {
     "name": "stdout",
     "output_type": "stream",
     "text": [
      "Hari Deep Learning "
     ]
    },
    {
     "data": {
      "text/plain": [
       "<__main__.Ostream at 0x1f5b754c9a0>"
      ]
     },
     "execution_count": 18,
     "metadata": {},
     "output_type": "execute_result"
    }
   ],
   "source": [
    "cout << \"Hari\" << \"Deep Learning\""
   ]
  },
  {
   "cell_type": "code",
   "execution_count": 2,
   "metadata": {},
   "outputs": [
    {
     "name": "stdout",
     "output_type": "stream",
     "text": [
      "object created\n",
      "Hahahahahhahahahhaha you asked me to say something.\n",
      "Just kidding, the name is  Hari\n"
     ]
    }
   ],
   "source": [
    "class Temporal:\n",
    "    def __init__(self,name):\n",
    "        print('object created')\n",
    "        self.name = name\n",
    "    def say_something(self):\n",
    "        print('Hahahahahhahahahhaha you asked me to say something.\\nJust kidding, the name is ',self.name)\n",
    "\n",
    "obj = Temporal('Hari')\n",
    "\n",
    "obj.say_something()"
   ]
  },
  {
   "attachments": {},
   "cell_type": "markdown",
   "metadata": {},
   "source": [
    "Inheritance\n"
   ]
  },
  {
   "cell_type": "code",
   "execution_count": null,
   "metadata": {},
   "outputs": [],
   "source": [
    "class Parent:\n",
    "    '''Parent'''\n",
    "    def __init__(self,name,age):\n",
    "        self.name = name\n",
    "        self.age = age\n",
    "        print(\"Initialized parent\\n\")\n",
    "    \n",
    "    def out(self):\n",
    "        print(\"name is {}\\nAge is {}\\n\".format(self.name,self.age))    \n",
    "\n",
    "class Son(Parent):\n",
    "    def __init__(self,name,age,marks):\n",
    "        super().__init__(name,age)\n",
    "        self.marks = marks\n",
    "        print(\"Initialized Son\\n\")\n",
    "    \n",
    "    def out(self):\n",
    "        super().out()\n",
    "        print(\"marks {} \".format(self.marks))\n",
    "\n",
    "class Daughter(Parent):\n",
    "    def __init__(self,name,age,grade):\n",
    "        Parent.__init__(self,name,age)\n",
    "        self.grade = grade\n",
    "    \n",
    "    def out(self):\n",
    "        Parent.out(self)\n",
    "        print(\"Grade : {}\".format(self.grade))\n"
   ]
  },
  {
   "cell_type": "code",
   "execution_count": null,
   "metadata": {},
   "outputs": [],
   "source": []
  }
 ],
 "metadata": {
  "kernelspec": {
   "display_name": "Python 3",
   "language": "python",
   "name": "python3"
  },
  "language_info": {
   "codemirror_mode": {
    "name": "ipython",
    "version": 3
   },
   "file_extension": ".py",
   "mimetype": "text/x-python",
   "name": "python",
   "nbconvert_exporter": "python",
   "pygments_lexer": "ipython3",
   "version": "3.10.0"
  },
  "orig_nbformat": 4
 },
 "nbformat": 4,
 "nbformat_minor": 2
}
