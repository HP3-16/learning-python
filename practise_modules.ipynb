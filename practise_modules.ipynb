{
 "cells": [
  {
   "cell_type": "code",
   "execution_count": 15,
   "metadata": {},
   "outputs": [],
   "source": [
    "#Ways to import\n",
    "from Modules import calculator as calc\n",
    "#Filtered import\n",
    "from Modules.calculator import multiply\n",
    "\n",
    "from Modules.calculator import (add,\n",
    "                                subtract,\n",
    "                                multiply\n",
    "                                )"
   ]
  },
  {
   "cell_type": "code",
   "execution_count": 4,
   "metadata": {},
   "outputs": [
    {
     "data": {
      "text/plain": [
       "5"
      ]
     },
     "execution_count": 4,
     "metadata": {},
     "output_type": "execute_result"
    }
   ],
   "source": [
    "calc.add(2,3)"
   ]
  },
  {
   "cell_type": "code",
   "execution_count": 8,
   "metadata": {},
   "outputs": [
    {
     "data": {
      "text/plain": [
       "15"
      ]
     },
     "execution_count": 8,
     "metadata": {},
     "output_type": "execute_result"
    }
   ],
   "source": [
    "multiply(3,5)"
   ]
  },
  {
   "cell_type": "code",
   "execution_count": 9,
   "metadata": {},
   "outputs": [
    {
     "name": "stdout",
     "output_type": "stream",
     "text": [
      "<class 'module'>\n",
      "{'__name__': '__main__', '__doc__': 'Automatically created module for IPython interactive environment', '__package__': None, '__loader__': None, '__spec__': None, '__builtin__': <module 'builtins' (built-in)>, '__builtins__': <module 'builtins' (built-in)>, '_ih': ['', 'from Modules import calculator', 'import torch', 'from Modules import calculator as calc', 'calc.add(2,3)', 'print(type(calc))', '#Ways to import\\nfrom Modules import calculator as calc\\n#Filtered import\\nfrom Modules.calculator import add', '#Ways to import\\nfrom Modules import calculator as calc\\n#Filtered import\\nfrom Modules.calculator import multiply', 'multiply(3,5)', 'print(type(calc))\\nprint(globals())'], '_oh': {4: 5, 8: 15}, '_dh': [WindowsPath('g:/[CB] Web Development with Python-Django/Python Pract'), WindowsPath('g:/[CB] Web Development with Python-Django/Python Pract')], 'In': ['', 'from Modules import calculator', 'import torch', 'from Modules import calculator as calc', 'calc.add(2,3)', 'print(type(calc))', '#Ways to import\\nfrom Modules import calculator as calc\\n#Filtered import\\nfrom Modules.calculator import add', '#Ways to import\\nfrom Modules import calculator as calc\\n#Filtered import\\nfrom Modules.calculator import multiply', 'multiply(3,5)', 'print(type(calc))\\nprint(globals())'], 'Out': {4: 5, 8: 15}, 'get_ipython': <bound method InteractiveShell.get_ipython of <ipykernel.zmqshell.ZMQInteractiveShell object at 0x000001FFD9B96C20>>, 'exit': <IPython.core.autocall.ZMQExitAutocall object at 0x000001FFD9B97940>, 'quit': <IPython.core.autocall.ZMQExitAutocall object at 0x000001FFD9B97940>, 'open': <function open at 0x000001FFD8114C10>, '_': 15, '__': 5, '___': '', '__vsc_ipynb_file__': 'g:\\\\[CB] Web Development with Python-Django\\\\Python Pract\\\\practise_modules.ipynb', '_i': 'multiply(3,5)', '_ii': '#Ways to import\\nfrom Modules import calculator as calc\\n#Filtered import\\nfrom Modules.calculator import multiply', '_iii': '#Ways to import\\nfrom Modules import calculator as calc\\n#Filtered import\\nfrom Modules.calculator import add', '_i1': 'from Modules import calculator', 'calculator': <module 'Modules.calculator' from 'g:\\\\[CB] Web Development with Python-Django\\\\Python Pract\\\\Modules\\\\calculator.py'>, '_i2': 'import torch', 'torch': <module 'torch' from 'C:\\\\Users\\\\pkdiv\\\\AppData\\\\Roaming\\\\Python\\\\Python310\\\\site-packages\\\\torch\\\\__init__.py'>, '_i3': 'from Modules import calculator as calc', 'calc': <module 'Modules.calculator' from 'g:\\\\[CB] Web Development with Python-Django\\\\Python Pract\\\\Modules\\\\calculator.py'>, '_i4': 'calc.add(2,3)', '_4': 5, '_i5': 'print(type(calc))', '_i6': '#Ways to import\\nfrom Modules import calculator as calc\\n#Filtered import\\nfrom Modules.calculator import add', 'add': <function add at 0x000001FFD9BFDB40>, '_i7': '#Ways to import\\nfrom Modules import calculator as calc\\n#Filtered import\\nfrom Modules.calculator import multiply', 'multiply': <function multiply at 0x000001FFD9DC8820>, '_i8': 'multiply(3,5)', '_8': 15, '_i9': 'print(type(calc))\\nprint(globals())'}\n"
     ]
    }
   ],
   "source": [
    "print(type(calc))\n",
    "print(globals())"
   ]
  },
  {
   "cell_type": "code",
   "execution_count": 18,
   "metadata": {},
   "outputs": [
    {
     "name": "stdout",
     "output_type": "stream",
     "text": [
      "PACKAGE Math\n"
     ]
    }
   ],
   "source": [
    "import Math"
   ]
  },
  {
   "cell_type": "code",
   "execution_count": 19,
   "metadata": {},
   "outputs": [
    {
     "name": "stdout",
     "output_type": "stream",
     "text": [
      "<module 'Math' from 'g:\\\\[CB] Web Development with Python-Django\\\\Python Pract\\\\Math\\\\__init__.py'>\n"
     ]
    }
   ],
   "source": [
    "print(Math)"
   ]
  },
  {
   "cell_type": "code",
   "execution_count": null,
   "metadata": {},
   "outputs": [],
   "source": []
  }
 ],
 "metadata": {
  "kernelspec": {
   "display_name": "Python 3",
   "language": "python",
   "name": "python3"
  },
  "language_info": {
   "codemirror_mode": {
    "name": "ipython",
    "version": 3
   },
   "file_extension": ".py",
   "mimetype": "text/x-python",
   "name": "python",
   "nbconvert_exporter": "python",
   "pygments_lexer": "ipython3",
   "version": "3.10.0"
  },
  "orig_nbformat": 4
 },
 "nbformat": 4,
 "nbformat_minor": 2
}
